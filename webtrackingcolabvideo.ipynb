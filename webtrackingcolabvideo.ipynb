{
  "cells": [
    {
      "cell_type": "markdown",
      "metadata": {
        "id": "view-in-github",
        "colab_type": "text"
      },
      "source": [
        "<a href=\"https://colab.research.google.com/github/ajith18thayil/My-WorkS/blob/main/webtrackingcolabvideo.ipynb\" target=\"_parent\"><img src=\"https://colab.research.google.com/assets/colab-badge.svg\" alt=\"Open In Colab\"/></a>"
      ]
    },
    {
      "cell_type": "code",
      "execution_count": null,
      "metadata": {
        "id": "jZ2TRVJPe61Y",
        "outputId": "5dc1878a-396d-4e08-d0bd-e22560190335"
      },
      "outputs": [
        {
          "ename": "",
          "evalue": "",
          "output_type": "error",
          "traceback": [
            "\u001b[1;31mThe Kernel crashed while executing code in the the current cell or a previous cell. Please review the code in the cell(s) to identify a possible cause of the failure. Click <a href='https://aka.ms/vscodeJupyterKernelCrash'>here</a> for more info. View Jupyter <a href='command:jupyter.viewOutput'>log</a> for further details."
          ]
        }
      ],
      "source": [
        "import cv2\n",
        "import mediapipe as mp\n",
        "\n",
        "cap=cv2.VideoCapture(r'C:\\Users\\AJITH\\Videos\\computer vision\\open cv\\Handtracking\\data\\Sign Language.mp4')\n",
        "\n",
        "mp_hands = mp.solutions.hands\n",
        "mp_drawing = mp.solutions.drawing_utils\n",
        "\n",
        "with mp_hands.Hands(\n",
        "    min_detection_confidence=0.3,\n",
        "    min_tracking_confidence=0.3) as hands:\n",
        "\n",
        "    while cap.isOpened():\n",
        "        success,frame = cap.read()\n",
        "\n",
        "        frame = cv2.resize(frame ,(int(frame.shape[1]*0.40),int(frame.shape[0]*0.40)))\n",
        "\n",
        "        results = hands.process(frame)\n",
        "\n",
        "        if results.multi_hand_landmarks:\n",
        "            for hand_landmarks in results.multi_hand_landmarks:\n",
        "                mp_drawing.draw_landmarks(image=frame, landmark_list=hand_landmarks, connections=mp_hands.HAND_CONNECTIONS)\n",
        "        \n",
        "        cv2.imshow('hand tracking',frame)\n",
        "        if cv2.waitKey(1) & 0xFF == 27:\n",
        "            break\n"
      ]
    }
  ],
  "metadata": {
    "kernelspec": {
      "display_name": "Python 3",
      "language": "python",
      "name": "python3"
    },
    "language_info": {
      "codemirror_mode": {
        "name": "ipython",
        "version": 3
      },
      "file_extension": ".py",
      "mimetype": "text/x-python",
      "name": "python",
      "nbconvert_exporter": "python",
      "pygments_lexer": "ipython3",
      "version": "3.9.15"
    },
    "orig_nbformat": 4,
    "colab": {
      "provenance": [],
      "include_colab_link": true
    }
  },
  "nbformat": 4,
  "nbformat_minor": 0
}