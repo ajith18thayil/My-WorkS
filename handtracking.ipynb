{
  "cells": [
    {
      "cell_type": "markdown",
      "metadata": {
        "id": "view-in-github",
        "colab_type": "text"
      },
      "source": [
        "<a href=\"https://colab.research.google.com/github/ajith18thayil/My-WorkS/blob/main/handtracking.ipynb\" target=\"_parent\"><img src=\"https://colab.research.google.com/assets/colab-badge.svg\" alt=\"Open In Colab\"/></a>"
      ]
    },
    {
      "cell_type": "code",
      "execution_count": null,
      "metadata": {
        "id": "ytMwj1teZd-t"
      },
      "outputs": [],
      "source": [
        "import cv2\n",
        "import mediapipe as mp\n",
        "import time\n",
        "import math\n",
        "import numpy as np"
      ]
    },
    {
      "cell_type": "code",
      "execution_count": null,
      "metadata": {
        "id": "pUJ6tolvZd-u"
      },
      "outputs": [],
      "source": [
        "img = cv2.imread(r'C:\\Users\\AJITH\\Videos\\computer vision\\open cv\\Handtracking\\data\\Screenshot_20230224_191714.png')"
      ]
    },
    {
      "cell_type": "code",
      "execution_count": null,
      "metadata": {
        "id": "-v53PY4sZd-v",
        "outputId": "53d16d6a-ddd2-4467-e786-ce1f8988bc42"
      },
      "outputs": [
        {
          "data": {
            "text/plain": [
              "array([[[187, 187, 187],\n",
              "        [187, 187, 187],\n",
              "        [187, 187, 187],\n",
              "        ...,\n",
              "        [187, 187, 187],\n",
              "        [187, 187, 187],\n",
              "        [187, 187, 187]],\n",
              "\n",
              "       [[187, 187, 187],\n",
              "        [187, 187, 187],\n",
              "        [187, 187, 187],\n",
              "        ...,\n",
              "        [187, 187, 187],\n",
              "        [187, 187, 187],\n",
              "        [187, 187, 187]],\n",
              "\n",
              "       [[187, 187, 187],\n",
              "        [187, 187, 187],\n",
              "        [187, 187, 187],\n",
              "        ...,\n",
              "        [187, 187, 187],\n",
              "        [187, 187, 187],\n",
              "        [187, 187, 187]],\n",
              "\n",
              "       ...,\n",
              "\n",
              "       [[218, 218, 218],\n",
              "        [217, 217, 217],\n",
              "        [216, 216, 216],\n",
              "        ...,\n",
              "        [ 58,  38,  14],\n",
              "        [ 56,  37,  13],\n",
              "        [ 57,  39,  14]],\n",
              "\n",
              "       [[220, 220, 220],\n",
              "        [219, 219, 219],\n",
              "        [218, 218, 218],\n",
              "        ...,\n",
              "        [ 56,  36,  13],\n",
              "        [ 54,  34,  12],\n",
              "        [ 55,  35,  13]],\n",
              "\n",
              "       [[223, 223, 223],\n",
              "        [222, 222, 222],\n",
              "        [220, 220, 220],\n",
              "        ...,\n",
              "        [ 56,  36,  13],\n",
              "        [ 53,  33,  12],\n",
              "        [ 54,  33,  12]]], dtype=uint8)"
            ]
          },
          "execution_count": 3,
          "metadata": {},
          "output_type": "execute_result"
        }
      ],
      "source": [
        "img"
      ]
    },
    {
      "cell_type": "code",
      "execution_count": null,
      "metadata": {
        "id": "AxKORy9lZd-v"
      },
      "outputs": [],
      "source": [
        "cv2.imshow('hand',img)\n",
        "cv2.waitKey(5)\n",
        "cv2.destroyAllWindows()"
      ]
    },
    {
      "cell_type": "code",
      "execution_count": null,
      "metadata": {
        "id": "RM_TjQA5Zd-w"
      },
      "outputs": [],
      "source": [
        "mp_hands = mp.solutions.hands"
      ]
    },
    {
      "cell_type": "code",
      "execution_count": null,
      "metadata": {
        "id": "2gK3AWvBZd-w"
      },
      "outputs": [],
      "source": [
        "hands = mp_hands.Hands(static_image_mode=True,max_num_hands=2,min_detection_confidence=0.3)"
      ]
    },
    {
      "cell_type": "code",
      "execution_count": null,
      "metadata": {
        "id": "G60Spl3qZd-w"
      },
      "outputs": [],
      "source": [
        "mp_drawing = mp.solutions.drawing_utils"
      ]
    },
    {
      "cell_type": "code",
      "execution_count": null,
      "metadata": {
        "id": "6vRPtAbgZd-w"
      },
      "outputs": [],
      "source": [
        "results=hands.process(img)"
      ]
    },
    {
      "cell_type": "code",
      "execution_count": null,
      "metadata": {
        "id": "gM7ywu_oZd-x",
        "outputId": "f505f190-549b-4efd-fb0e-ae47958f39b1"
      },
      "outputs": [
        {
          "data": {
            "text/plain": [
              "mediapipe.python.solution_base.SolutionOutputs"
            ]
          },
          "execution_count": 9,
          "metadata": {},
          "output_type": "execute_result"
        }
      ],
      "source": [
        "results"
      ]
    },
    {
      "cell_type": "code",
      "execution_count": null,
      "metadata": {
        "id": "gYNUtamrZd-x"
      },
      "outputs": [],
      "source": [
        "if results.multi_hand_landmarks:\n",
        "    for hand_no,hand_landmarks in enumerate(results.multi_hand_landmarks):\n",
        "\n",
        "        mp_drawing.draw_landmarks(image= img,landmark_list=hand_landmarks,connections= mp_hands.HAND_CONNECTIONS)\n",
        "    cv2.imshow('drawing image',img)\n",
        "    cv2.waitKey(5)\n",
        "    cv2.destroyAllWindows()\n",
        "\n"
      ]
    },
    {
      "cell_type": "code",
      "execution_count": null,
      "metadata": {
        "id": "ExuaWRD8Zd-x"
      },
      "outputs": [],
      "source": [
        "cv2.imshow('drawing image',img)\n",
        "cv2.waitKey(5)\n",
        "cv2.destroyAllWindows()"
      ]
    }
  ],
  "metadata": {
    "kernelspec": {
      "display_name": "Python 3",
      "language": "python",
      "name": "python3"
    },
    "language_info": {
      "codemirror_mode": {
        "name": "ipython",
        "version": 3
      },
      "file_extension": ".py",
      "mimetype": "text/x-python",
      "name": "python",
      "nbconvert_exporter": "python",
      "pygments_lexer": "ipython3",
      "version": "3.9.15"
    },
    "orig_nbformat": 4,
    "vscode": {
      "interpreter": {
        "hash": "f8d540e307605a857356f87302773d6544a027fb70aa56e1b68eb6bd2d0509ae"
      }
    },
    "colab": {
      "provenance": [],
      "include_colab_link": true
    }
  },
  "nbformat": 4,
  "nbformat_minor": 0
}