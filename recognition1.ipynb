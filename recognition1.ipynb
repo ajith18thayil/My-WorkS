{
  "cells": [
    {
      "cell_type": "markdown",
      "metadata": {
        "id": "view-in-github",
        "colab_type": "text"
      },
      "source": [
        "<a href=\"https://colab.research.google.com/github/ajith18thayil/My-WorkS/blob/main/recognition1.ipynb\" target=\"_parent\"><img src=\"https://colab.research.google.com/assets/colab-badge.svg\" alt=\"Open In Colab\"/></a>"
      ]
    },
    {
      "cell_type": "code",
      "execution_count": null,
      "metadata": {
        "id": "hfGyF7g7DBBw"
      },
      "outputs": [],
      "source": [
        "import cv2\n",
        "import numpy as np\n",
        "import os"
      ]
    },
    {
      "cell_type": "code",
      "execution_count": null,
      "metadata": {
        "id": "N5SBAJTyDBBx"
      },
      "outputs": [],
      "source": [
        "def name_map(x):\n",
        "    if x=='sachin':\n",
        "        return 0\n",
        "    if x=='ajith':\n",
        "        return 1\n",
        "    if x=='messi':\n",
        "        return 2"
      ]
    },
    {
      "cell_type": "code",
      "execution_count": null,
      "metadata": {
        "id": "aw60_e9ZDBBy"
      },
      "outputs": [],
      "source": [
        "def get_name(x):\n",
        "    if x==0:\n",
        "        return 'sachin'\n",
        "    if x==1:\n",
        "        return 'ajith'\n",
        "    if x==2:\n",
        "        return 'messi'    "
      ]
    },
    {
      "cell_type": "code",
      "execution_count": null,
      "metadata": {
        "id": "0H5j_x3bDBBy"
      },
      "outputs": [],
      "source": [
        "def detect_face(img):\n",
        "    gray=cv2.cvtColor(img,cv2.COLOR_BGR2GRAY)\n",
        "    face_cascade=cv2.CascadeClassifier(r'C:\\Users\\AJITH\\Videos\\computer vision\\open cv\\face_detection1main\\goat_facedetection\\haarcascade_frontalface_default (1).xml')\n",
        "\n",
        "    faces=face_cascade.detectMultiScale(gray,scaleFactor=1.1,minNeighbors=4)\n",
        "    if len(faces)==0:       # if image not detected return the original img\n",
        "        return None,None\n",
        "    \n",
        "    x,y,w,h=faces[0]         # if only img gets detected, the corresponding coordinates values of the 1st image is stored to x,y,w,h\n",
        "    return gray[y:y+w,x:x+h],faces[0]       # cropping only the facepart of the image (region of interest)"
      ]
    },
    {
      "cell_type": "code",
      "execution_count": null,
      "metadata": {
        "id": "fx7G9yzLDBBz"
      },
      "outputs": [],
      "source": [
        "def  prepare_training_data(data_folder_path):\n",
        "    dirs=os.listdir(data_folder_path)\n",
        "\n",
        "    faces=[]\n",
        "    labels=[]\n",
        "\n",
        "\n",
        "    for dir_name in dirs:\n",
        "\n",
        "        label=dir_name\n",
        "\n",
        "        subject_dir_path=data_folder_path + '/' + dir_name\n",
        "        subject_img_names = os.listdir(subject_dir_path)    #to list each file names (only the name not path) in each subject_dir_path \n",
        "\n",
        "        for img_name in subject_img_names:\n",
        "            img_path=subject_dir_path + '/' + img_name\n",
        "\n",
        "            image=cv2.imread(img_path)\n",
        "\n",
        "            cv2.imshow('training on image',image)\n",
        "            cv2.waitKey(1000)\n",
        "\n",
        "           # detect face\n",
        "\n",
        "            face,rect=detect_face(image)\n",
        "\n",
        "            if face is not None:\n",
        "                faces.append(face)\n",
        "                labels.append(name_map(label))\n",
        "\n",
        "                print(labels)\n",
        "\n",
        "    cv2.destroyAllWindows()\n",
        "    cv2.waitKey(1)\n",
        "\n",
        "    return faces,labels\n",
        "    "
      ]
    },
    {
      "cell_type": "code",
      "execution_count": null,
      "metadata": {
        "id": "Z4w-wVx5DBB0",
        "outputId": "a0d54161-2f29-4c84-e795-c6c9b8d948a7"
      },
      "outputs": [
        {
          "name": "stdout",
          "output_type": "stream",
          "text": [
            "Preparing data.....\n",
            "[1]\n",
            "[1, 1]\n",
            "[1, 1, 1]\n",
            "[1, 1, 1, 1]\n",
            "[1, 1, 1, 1, 1]\n",
            "[1, 1, 1, 1, 1, 1]\n",
            "[1, 1, 1, 1, 1, 1, 1]\n",
            "[1, 1, 1, 1, 1, 1, 1, 1]\n",
            "[1, 1, 1, 1, 1, 1, 1, 1, 1]\n",
            "[1, 1, 1, 1, 1, 1, 1, 1, 1, 1]\n",
            "[1, 1, 1, 1, 1, 1, 1, 1, 1, 1, 2]\n",
            "[1, 1, 1, 1, 1, 1, 1, 1, 1, 1, 2, 2]\n",
            "[1, 1, 1, 1, 1, 1, 1, 1, 1, 1, 2, 2, 2]\n",
            "[1, 1, 1, 1, 1, 1, 1, 1, 1, 1, 2, 2, 2, 2]\n",
            "[1, 1, 1, 1, 1, 1, 1, 1, 1, 1, 2, 2, 2, 2, 2]\n",
            "[1, 1, 1, 1, 1, 1, 1, 1, 1, 1, 2, 2, 2, 2, 2, 2]\n",
            "[1, 1, 1, 1, 1, 1, 1, 1, 1, 1, 2, 2, 2, 2, 2, 2, 2]\n",
            "[1, 1, 1, 1, 1, 1, 1, 1, 1, 1, 2, 2, 2, 2, 2, 2, 2, 2]\n",
            "[1, 1, 1, 1, 1, 1, 1, 1, 1, 1, 2, 2, 2, 2, 2, 2, 2, 2, 2]\n",
            "[1, 1, 1, 1, 1, 1, 1, 1, 1, 1, 2, 2, 2, 2, 2, 2, 2, 2, 2, 2]\n",
            "[1, 1, 1, 1, 1, 1, 1, 1, 1, 1, 2, 2, 2, 2, 2, 2, 2, 2, 2, 2, 0]\n",
            "[1, 1, 1, 1, 1, 1, 1, 1, 1, 1, 2, 2, 2, 2, 2, 2, 2, 2, 2, 2, 0, 0]\n",
            "[1, 1, 1, 1, 1, 1, 1, 1, 1, 1, 2, 2, 2, 2, 2, 2, 2, 2, 2, 2, 0, 0, 0]\n",
            "[1, 1, 1, 1, 1, 1, 1, 1, 1, 1, 2, 2, 2, 2, 2, 2, 2, 2, 2, 2, 0, 0, 0, 0]\n",
            "[1, 1, 1, 1, 1, 1, 1, 1, 1, 1, 2, 2, 2, 2, 2, 2, 2, 2, 2, 2, 0, 0, 0, 0, 0]\n",
            "[1, 1, 1, 1, 1, 1, 1, 1, 1, 1, 2, 2, 2, 2, 2, 2, 2, 2, 2, 2, 0, 0, 0, 0, 0, 0]\n",
            "[1, 1, 1, 1, 1, 1, 1, 1, 1, 1, 2, 2, 2, 2, 2, 2, 2, 2, 2, 2, 0, 0, 0, 0, 0, 0, 0]\n",
            "[1, 1, 1, 1, 1, 1, 1, 1, 1, 1, 2, 2, 2, 2, 2, 2, 2, 2, 2, 2, 0, 0, 0, 0, 0, 0, 0, 0]\n",
            "[1, 1, 1, 1, 1, 1, 1, 1, 1, 1, 2, 2, 2, 2, 2, 2, 2, 2, 2, 2, 0, 0, 0, 0, 0, 0, 0, 0, 0]\n",
            "Data prepared....\n"
          ]
        }
      ],
      "source": [
        "print('Preparing data.....')\n",
        "\n",
        "faces,labels=prepare_training_data(r'C:\\Users\\AJITH\\Videos\\computer vision\\open cv\\face_detection1main\\goat_facedetection\\DB')\n",
        "\n",
        "print('Data prepared....')"
      ]
    },
    {
      "cell_type": "code",
      "execution_count": null,
      "metadata": {
        "id": "9FA_LuszDBB1",
        "outputId": "aafabe25-26d2-435f-b294-baf1f8619176"
      },
      "outputs": [
        {
          "name": "stdout",
          "output_type": "stream",
          "text": [
            "Total faces =  29\n",
            "Total labels =  29\n"
          ]
        }
      ],
      "source": [
        "print('Total faces = ',len(faces))\n",
        "print('Total labels = ',len(labels))"
      ]
    },
    {
      "cell_type": "code",
      "execution_count": null,
      "metadata": {
        "id": "u1-Ut_vADBB2"
      },
      "outputs": [],
      "source": [
        "face_recognizer=cv2.face.LBPHFaceRecognizer_create() # function to find binary patterns in the images "
      ]
    },
    {
      "cell_type": "code",
      "execution_count": null,
      "metadata": {
        "id": "1qDIdISJDBB2"
      },
      "outputs": [],
      "source": [
        "face_recognizer.train(faces,np.array(labels))"
      ]
    },
    {
      "cell_type": "code",
      "execution_count": null,
      "metadata": {
        "id": "VGsJrd_5DBB3"
      },
      "outputs": [],
      "source": [
        "def draw_rectangle(img,rect):   # to draw rectangle in the predicted image\n",
        "    (x,y,w,h) = rect\n",
        "    cv2.rectangle(img,(x,y),(x+w,y+h),(0,255,0),2)"
      ]
    },
    {
      "cell_type": "code",
      "execution_count": null,
      "metadata": {
        "id": "Cqe164gLDBB3"
      },
      "outputs": [],
      "source": [
        "def draw_text(img,text,x,y):     #to label in the predicted image\n",
        "    cv2.putText(img,text,(x,y),cv2.FONT_HERSHEY_COMPLEX,1,(0,0,255),2)"
      ]
    },
    {
      "cell_type": "code",
      "execution_count": null,
      "metadata": {
        "id": "6WZiu3HZDBB4"
      },
      "outputs": [],
      "source": [
        "def predict(test_img):\n",
        "    img=test_img.copy()     #creating a copy of the test image so that every time when we call the function, it avoids overlappings\n",
        "\n",
        "    face,rect=detect_face(img)\n",
        "\n",
        "    label=face_recognizer.predict(face)     #to find the label corres to test_img\n",
        "    label_text=get_name(label[0])\n",
        "\n",
        "    draw_rectangle(img,rect)\n",
        "    draw_text(img,label_text,rect[0],rect[1])       #we need x , y coordinates as the starting point\n",
        "\n",
        "    return img"
      ]
    },
    {
      "cell_type": "code",
      "execution_count": null,
      "metadata": {
        "id": "Ox65wm9MDBB5"
      },
      "outputs": [],
      "source": [
        "test_img1=cv2.imread(r'C:\\Users\\AJITH\\Videos\\computer vision\\open cv\\face_detection1main\\goat_facedetection\\ajith.jpg')"
      ]
    },
    {
      "cell_type": "code",
      "execution_count": null,
      "metadata": {
        "id": "tlV2Nyp4DBB5"
      },
      "outputs": [],
      "source": [
        "predicted=predict(test_img1)\n",
        "\n",
        "cv2.imshow('Predicted image',predicted)\n",
        "cv2.waitKey()\n",
        "cv2.destroyAllWindows()"
      ]
    },
    {
      "cell_type": "code",
      "execution_count": null,
      "metadata": {
        "id": "o1Xc8--dDBB6"
      },
      "outputs": [],
      "source": []
    }
  ],
  "metadata": {
    "kernelspec": {
      "display_name": "Python 3",
      "language": "python",
      "name": "python3"
    },
    "language_info": {
      "codemirror_mode": {
        "name": "ipython",
        "version": 3
      },
      "file_extension": ".py",
      "mimetype": "text/x-python",
      "name": "python",
      "nbconvert_exporter": "python",
      "pygments_lexer": "ipython3",
      "version": "3.9.15"
    },
    "orig_nbformat": 4,
    "vscode": {
      "interpreter": {
        "hash": "f8d540e307605a857356f87302773d6544a027fb70aa56e1b68eb6bd2d0509ae"
      }
    },
    "colab": {
      "provenance": [],
      "include_colab_link": true
    }
  },
  "nbformat": 4,
  "nbformat_minor": 0
}