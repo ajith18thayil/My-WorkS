{
  "nbformat": 4,
  "nbformat_minor": 0,
  "metadata": {
    "colab": {
      "provenance": [],
      "include_colab_link": true
    },
    "kernelspec": {
      "name": "python3",
      "display_name": "Python 3"
    },
    "language_info": {
      "name": "python"
    }
  },
  "cells": [
    {
      "cell_type": "markdown",
      "metadata": {
        "id": "view-in-github",
        "colab_type": "text"
      },
      "source": [
        "<a href=\"https://colab.research.google.com/github/ajith18thayil/My-WorkS/blob/main/NLPdtaset.ipynb\" target=\"_parent\"><img src=\"https://colab.research.google.com/assets/colab-badge.svg\" alt=\"Open In Colab\"/></a>"
      ]
    },
    {
      "cell_type": "code",
      "execution_count": null,
      "metadata": {
        "id": "TpgFtmrTGueG"
      },
      "outputs": [],
      "source": [
        "import numpy as np\n",
        "from sklearn.pipeline import Pipeline\n",
        "from sklearn.naive_bayes import MultinomialNB\n",
        "from sklearn.feature_extraction.text import TfidfVectorizer"
      ]
    },
    {
      "cell_type": "code",
      "source": [
        "x_train=np.array([\"coffee is my favorite drink\",\n",
        "                    \"i like to have tea in the morning\",\n",
        "                    \"i like to eat italian food for dinner\",\n",
        "                    \"i had pasta at this restaurant and it was amazing\",\n",
        "                    \"pizza at this restaurant is the best in nyc\",\n",
        "                    \"people like italian food these days\",\n",
        "                    \"i like to have bagels for breakfast\",\n",
        "                    \"olive oil is commonly used in italian cooking\",\n",
        "                    \"sometimes simple bread and butter works for breakfast\",\n",
        "                    \"i liked spaghetti pasta at this italian restaurant\"])"
      ],
      "metadata": {
        "id": "1tOospPQIMkr"
      },
      "execution_count": null,
      "outputs": []
    },
    {
      "cell_type": "code",
      "source": [
        "y_train=['breakfast','breakfast','italian','italian','italian','italian','breakfast','italian','breakfast','italian']"
      ],
      "metadata": {
        "id": "FnATKnUZJGLz"
      },
      "execution_count": null,
      "outputs": []
    },
    {
      "cell_type": "code",
      "source": [
        "x_test=np.array(['this is an amazing italian place. i can go there every day',\n",
        "                   'i like this place. i get great coffee and tea in the morning',\n",
        "                   'bagels are great here',\n",
        "                   'i like hiking',\n",
        "                   'everyone should understand maths'])"
      ],
      "metadata": {
        "id": "8Kv4tqRoJf2X"
      },
      "execution_count": null,
      "outputs": []
    },
    {
      "cell_type": "code",
      "source": [
        "classifier=Pipeline([('vec',TfidfVectorizer()),('clf',MultinomialNB())])\n",
        "classifier.fit(x_train,y_train)"
      ],
      "metadata": {
        "colab": {
          "base_uri": "https://localhost:8080/"
        },
        "id": "cjfbaTYuxT0m",
        "outputId": "cb71d48f-8ae6-432f-b93d-63c3048fc21a"
      },
      "execution_count": null,
      "outputs": [
        {
          "output_type": "execute_result",
          "data": {
            "text/plain": [
              "Pipeline(steps=[('vec', TfidfVectorizer()), ('clf', MultinomialNB())])"
            ]
          },
          "metadata": {},
          "execution_count": 7
        }
      ]
    },
    {
      "cell_type": "code",
      "source": [
        "y_pred=classifier.predict(x_test)\n",
        "y_pred"
      ],
      "metadata": {
        "colab": {
          "base_uri": "https://localhost:8080/"
        },
        "id": "P8Z9A4YUxvNG",
        "outputId": "c716dc9f-c51a-4fc3-9580-f1a4034081eb"
      },
      "execution_count": null,
      "outputs": [
        {
          "output_type": "execute_result",
          "data": {
            "text/plain": [
              "array(['italian', 'breakfast', 'breakfast', 'italian', 'italian'],\n",
              "      dtype='<U9')"
            ]
          },
          "metadata": {},
          "execution_count": 8
        }
      ]
    }
  ]
}