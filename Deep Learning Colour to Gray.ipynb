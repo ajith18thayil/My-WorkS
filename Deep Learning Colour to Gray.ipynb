{
  "cells": [
    {
      "cell_type": "markdown",
      "metadata": {
        "id": "view-in-github",
        "colab_type": "text"
      },
      "source": [
        "<a href=\"https://colab.research.google.com/github/ajith18thayil/My-WorkS/blob/main/Deep%20Learning%20Colour%20to%20Gray.ipynb\" target=\"_parent\"><img src=\"https://colab.research.google.com/assets/colab-badge.svg\" alt=\"Open In Colab\"/></a>"
      ]
    },
    {
      "cell_type": "code",
      "execution_count": null,
      "metadata": {
        "id": "-6jQFBzH12dq"
      },
      "outputs": [],
      "source": [
        "import cv2\n",
        "import numpy as np"
      ]
    },
    {
      "cell_type": "code",
      "execution_count": null,
      "metadata": {
        "id": "X5ZCv_U-12du"
      },
      "outputs": [],
      "source": [
        "img=cv2.imread(r'ajith new pic.jpg')"
      ]
    },
    {
      "cell_type": "code",
      "execution_count": null,
      "metadata": {
        "id": "iOOiXAOl12dv",
        "outputId": "7ec4a8bf-7917-4fff-a75b-61c5d5f56130"
      },
      "outputs": [
        {
          "data": {
            "text/plain": [
              "array([[[229, 226, 221],\n",
              "        [228, 225, 220],\n",
              "        [227, 224, 219],\n",
              "        ...,\n",
              "        [104, 112, 105],\n",
              "        [103, 112, 102],\n",
              "        [113, 125, 113]],\n",
              "\n",
              "       [[229, 226, 221],\n",
              "        [229, 226, 221],\n",
              "        [229, 226, 221],\n",
              "        ...,\n",
              "        [104, 111, 108],\n",
              "        [106, 114, 107],\n",
              "        [116, 128, 116]],\n",
              "\n",
              "       [[228, 225, 220],\n",
              "        [228, 225, 220],\n",
              "        [228, 225, 220],\n",
              "        ...,\n",
              "        [103, 113, 100],\n",
              "        [107, 119,  99],\n",
              "        [116, 130, 106]],\n",
              "\n",
              "       ...,\n",
              "\n",
              "       [[ 57,  98,  90],\n",
              "        [ 52,  93,  85],\n",
              "        [ 46,  87,  80],\n",
              "        ...,\n",
              "        [ 86, 116, 117],\n",
              "        [ 90, 121, 120],\n",
              "        [ 78, 109, 106]],\n",
              "\n",
              "       [[ 58,  97,  89],\n",
              "        [ 55,  94,  86],\n",
              "        [ 52,  90,  84],\n",
              "        ...,\n",
              "        [ 84, 109,  99],\n",
              "        [ 87, 111,  99],\n",
              "        [ 77, 102,  88]],\n",
              "\n",
              "       [[ 57,  96,  88],\n",
              "        [ 55,  92,  84],\n",
              "        [ 51,  88,  80],\n",
              "        ...,\n",
              "        [ 96, 121, 111],\n",
              "        [ 82, 106,  96],\n",
              "        [ 77,  99,  87]]], dtype=uint8)"
            ]
          },
          "execution_count": 3,
          "metadata": {},
          "output_type": "execute_result"
        }
      ],
      "source": [
        "img\n"
      ]
    },
    {
      "cell_type": "code",
      "execution_count": null,
      "metadata": {
        "id": "tBJ0ktqY12d0"
      },
      "outputs": [],
      "source": [
        "cv2.imshow('image',img)\n",
        "cv2.waitKey()\n",
        "cv2.destroyAllWindows()"
      ]
    },
    {
      "cell_type": "code",
      "execution_count": null,
      "metadata": {
        "id": "k9HE-pdy12d2",
        "outputId": "01418f3a-86de-4501-9ac9-4d855757d028"
      },
      "outputs": [
        {
          "data": {
            "text/plain": [
              "(4032, 2268, 3)"
            ]
          },
          "execution_count": 5,
          "metadata": {},
          "output_type": "execute_result"
        }
      ],
      "source": [
        "img.shape"
      ]
    },
    {
      "cell_type": "code",
      "execution_count": null,
      "metadata": {
        "id": "QSQGqlV412d3",
        "outputId": "e4ce765d-bbf6-44ab-ce85-9e2ddb9a66ac"
      },
      "outputs": [
        {
          "data": {
            "text/plain": [
              "numpy.ndarray"
            ]
          },
          "execution_count": 6,
          "metadata": {},
          "output_type": "execute_result"
        }
      ],
      "source": [
        "type(img)"
      ]
    },
    {
      "cell_type": "code",
      "execution_count": null,
      "metadata": {
        "id": "KBVJC-9_12d4"
      },
      "outputs": [],
      "source": [
        "img_grey=cv2.imread(r'ajith new pic.jpg',cv2.IMREAD_GRAYSCALE)"
      ]
    },
    {
      "cell_type": "code",
      "execution_count": null,
      "metadata": {
        "id": "r7mBsnhy12d4"
      },
      "outputs": [],
      "source": [
        "cv2.imshow('grayscale image',img_grey)\n",
        "cv2.waitKey()\n",
        "cv2.destroyAllWindows()"
      ]
    }
  ],
  "metadata": {
    "kernelspec": {
      "display_name": "Python 3",
      "language": "python",
      "name": "python3"
    },
    "language_info": {
      "codemirror_mode": {
        "name": "ipython",
        "version": 3
      },
      "file_extension": ".py",
      "mimetype": "text/x-python",
      "name": "python",
      "nbconvert_exporter": "python",
      "pygments_lexer": "ipython3",
      "version": "3.9.15"
    },
    "orig_nbformat": 4,
    "vscode": {
      "interpreter": {
        "hash": "f8d540e307605a857356f87302773d6544a027fb70aa56e1b68eb6bd2d0509ae"
      }
    },
    "colab": {
      "provenance": [],
      "include_colab_link": true
    }
  },
  "nbformat": 4,
  "nbformat_minor": 0
}